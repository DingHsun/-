{
  "nbformat": 4,
  "nbformat_minor": 0,
  "metadata": {
    "colab": {
      "provenance": [],
      "collapsed_sections": [],
      "toc_visible": true,
      "include_colab_link": true
    },
    "kernelspec": {
      "display_name": "Python 3",
      "name": "python3"
    },
    "language_info": {
      "name": "python"
    },
    "accelerator": "GPU"
  },
  "cells": [
    {
      "cell_type": "markdown",
      "metadata": {
        "id": "view-in-github",
        "colab_type": "text"
      },
      "source": [
        "<a href=\"https://colab.research.google.com/github/DingHsun/T-Brain-ChinaSteel-Competition/blob/main/%E4%B8%AD%E9%8B%BC%E7%AB%B6%E8%B3%BDcode.ipynb\" target=\"_parent\"><img src=\"https://colab.research.google.com/assets/colab-badge.svg\" alt=\"Open In Colab\"/></a>"
      ]
    },
    {
      "cell_type": "markdown",
      "metadata": {
        "id": "q19nLbT1meBJ"
      },
      "source": [
        "# 雲端載入資料"
      ]
    },
    {
      "cell_type": "code",
      "metadata": {
        "colab": {
          "base_uri": "https://localhost:8080/"
        },
        "id": "KGudXlmlzVqL",
        "outputId": "534c0630-343e-47b6-e69c-f4c7c5087cc8"
      },
      "source": [
        "from google.colab import drive\n",
        "drive.mount('/content/drive')"
      ],
      "execution_count": null,
      "outputs": [
        {
          "output_type": "stream",
          "name": "stdout",
          "text": [
            "Mounted at /content/drive\n"
          ]
        }
      ]
    },
    {
      "cell_type": "code",
      "metadata": {
        "id": "K-qJWBi53drT"
      },
      "source": [
        "!unzip -qq ./drive/My\\ Drive/public_training_data.zip\n",
        "!unzip -qq ./drive/My\\ Drive/標記與資料說明.zip\n",
        "!unzip -qq ./drive/My\\ Drive/public_testing_data.zip\n",
        "!unzip -qq ./drive/My\\ Drive/submission_template.zip"
      ],
      "execution_count": null,
      "outputs": []
    },
    {
      "cell_type": "markdown",
      "metadata": {
        "id": "LZzEI-Efse0_"
      },
      "source": [
        "# 自訂函數"
      ]
    },
    {
      "cell_type": "markdown",
      "source": [
        "##將 label 字串 encoding，embedding & un_embedding 兩個function"
      ],
      "metadata": {
        "id": "1Rhc0-2lPmd4"
      }
    },
    {
      "cell_type": "code",
      "metadata": {
        "id": "yH4UfzdhHsZm"
      },
      "source": [
        "char = [\" \", \"0\", \"1\", \"2\", \"3\", \"4\", \"5\", \"6\", \"7\", \"8\",\n",
        "     \"9\", \"A\", \"B\", \"C\", \"D\", \"E\", \"F\", \"G\", \"H\", \"I\",\n",
        "     \"J\", \"K\", \"L\", \"M\", \"N\", \"P\", \"Q\", \"R\", \"S\", \"T\",\n",
        "     \"U\", \"V\", \"W\", \"X\", \"Y\", \"Z\"]\n",
        "char = {stu:i for i,stu in zip(range(len(char)),char)}\n",
        "def embedding(label):\n",
        "  embed = torch.zeros(16)\n",
        "  j = 2\n",
        "  for i in range(len(label)):\n",
        "    if char[label[i]] == char[label[i-1]]:\n",
        "      j += 1\n",
        "    embed[j] = char[label[i]]\n",
        "    j += 1\n",
        "  return embed\n",
        "\n",
        "def un_embedding(out):\n",
        "  unembed = \"\"\n",
        "  n = len(list(out))\n",
        "  for i in range(n):\n",
        "    if (out[i] != 0) & (out[i] != out[i-1]):\n",
        "      unembed = unembed + list(char.keys())[list(char.values()).index(out[i])]\n",
        "  return unembed"
      ],
      "execution_count": null,
      "outputs": []
    },
    {
      "cell_type": "code",
      "metadata": {
        "colab": {
          "base_uri": "https://localhost:8080/",
          "height": 54
        },
        "id": "70wJOH6oGZ2g",
        "outputId": "c6de581c-8a64-4918-f6d7-8e96b1f8e8c5"
      },
      "source": [
        "import torch\n",
        "print(embedding('440405506'))\n",
        "un_embedding(torch.tensor([4., 5., 1., 5., 5., 5., 1., 6., 6., 1., 7., 0., 0., 0., 0.]))"
      ],
      "execution_count": null,
      "outputs": [
        {
          "output_type": "stream",
          "name": "stdout",
          "text": [
            "tensor([0., 0., 5., 0., 5., 1., 5., 1., 6., 0., 6., 1., 7., 0., 0., 0.])\n"
          ]
        },
        {
          "output_type": "execute_result",
          "data": {
            "application/vnd.google.colaboratory.intrinsic+json": {
              "type": "string"
            },
            "text/plain": [
              "'34040506'"
            ]
          },
          "metadata": {},
          "execution_count": 4
        }
      ]
    },
    {
      "cell_type": "markdown",
      "source": [
        "##評分函數"
      ],
      "metadata": {
        "id": "nzdT8UEUQX4A"
      }
    },
    {
      "cell_type": "code",
      "metadata": {
        "id": "uQz92brJsbQn"
      },
      "source": [
        "from past.builtins import xrange\n",
        "\n",
        "def levenshtein(s1, s2, key=hash):\n",
        "  rows = costmatrix(s1, s2, key)\n",
        "  edits = backtrace(s1, s2, rows, key)\n",
        "  return rows[-1][-1], edits\n",
        "from past.builtins import xrange\n",
        "def costmatrix(s1, s2, key=hash):\n",
        "  rows = []\n",
        "  previous_row = xrange(len(s2) + 1)\n",
        "  rows.append(list(previous_row))\n",
        "  for i, c1 in enumerate(s1):\n",
        "    current_row = [i + 1]\n",
        "    for j, c2 in enumerate(s2):\n",
        "      insertions = previous_row[j + 1] + 1\n",
        "      deletions = current_row[j] + 1\n",
        "      substitutions = previous_row[j] + (key(c1) != key(c2))\n",
        "      current_row.append(min(insertions, deletions, substitutions))\n",
        "    previous_row = current_row\n",
        "    rows.append(previous_row)\n",
        "  return rows\n",
        "def backtrace(s1, s2, rows, key=hash):\n",
        "  i, j = len(s1), len(s2)\n",
        "  edits = []\n",
        "  while(not (i == 0  and j == 0)):\n",
        "    prev_cost = rows[i][j]\n",
        "    neighbors = []\n",
        "    if(i!=0 and j!=0):\n",
        "      neighbors.append(rows[i-1][j-1])\n",
        "    if(i!=0):\n",
        "      neighbors.append(rows[i-1][j])\n",
        "    if(j!=0):\n",
        "      neighbors.append(rows[i][j-1])\n",
        "    min_cost = min(neighbors)\n",
        "    if(min_cost == prev_cost):\n",
        "      i, j = i-1, j-1\n",
        "      edits.append({'type':'match', 'i':i, 'j':j})\n",
        "    elif(i!=0 and j!=0 and min_cost == rows[i-1][j-1]):\n",
        "      i, j = i-1, j-1\n",
        "      edits.append({'type':'substitution', 'i':i, 'j':j})\n",
        "    elif(i!=0 and min_cost == rows[i-1][j]):\n",
        "      i, j = i-1, j\n",
        "      edits.append({'type':'deletion', 'i':i, 'j':j})\n",
        "    elif(j!=0 and min_cost == rows[i][j-1]):\n",
        "      i, j = i, j-1\n",
        "      edits.append({'type':'insertion', 'i':i, 'j':j})\n",
        "  edits.reverse()\n",
        "  return edits\n",
        "def lev(predicted, actual):\n",
        "    #assert(len(predicted) == len(actual))\n",
        "    total_dist = 0\n",
        "    for pred, act in zip(predicted, actual):\n",
        "        total_dist += levenshtein(pred, act)[0]\n",
        "    return total_dist/max(len(predicted),1)\n",
        "def score(pred_str,label_str):\n",
        "  output = 0\n",
        "  for p,l in zip(pred_str,label_str):\n",
        "    try:\n",
        "      output = output + 1-(p==l) + (1/len(pred_str))*(lev(p,l)/max(len(p),len(l)))\n",
        "    except:\n",
        "      output = output + 1-(p==l)\n",
        "  return output"
      ],
      "execution_count": null,
      "outputs": []
    },
    {
      "cell_type": "markdown",
      "source": [
        "#資料前處理"
      ],
      "metadata": {
        "id": "lcTp8HkTRrSA"
      }
    },
    {
      "cell_type": "markdown",
      "source": [
        "##預測目標序號位置的「標框model」，(已前置訓練完畢)"
      ],
      "metadata": {
        "id": "Y7x4vtbUQciw"
      }
    },
    {
      "cell_type": "code",
      "metadata": {
        "id": "Njan9UzRDZ2X"
      },
      "source": [
        "import torch.nn as nn \n",
        "import torch.nn.functional as F\n",
        "import torchvision.models as models\n",
        "\n",
        "class MY_Model(nn.Module): \n",
        "  def __init__(self): \n",
        "    super().__init__()\n",
        "\n",
        "    \n",
        "    self.res = nn.Sequential(*list(models.resnet18(pretrained=True).children())[:-1])\n",
        "    self.res[0] = nn.Conv2d(1, 64, kernel_size=(7, 7), stride=(1, 1), padding=(3, 3), bias=False)\n",
        "    ct = 0\n",
        "    for child in self.res.children():\n",
        "      ct += 1\n",
        "      if ct < 4:\n",
        "        for param in child.parameters():\n",
        "          param.requires_grad = False\n",
        "    res_out = 512\n",
        "    self.out = nn.Linear(res_out, 4)\n",
        "\n",
        "  def forward(self, x): \n",
        "    if not isinstance(x, torch.Tensor):\n",
        "      x = torch.Tensor(x)\n",
        "    x = self.res(x)\n",
        "    x = x.view(x.size(0),-1)#/255\n",
        "    #x = torch.cat((x.mean(2),x.mean(3)),2)/100\n",
        "    out = self.out(x)\n",
        "    return out\n",
        "\n",
        "#model_point = MY_Model_point()\n",
        "#model_point = model_point.cuda()"
      ],
      "execution_count": null,
      "outputs": []
    },
    {
      "cell_type": "code",
      "metadata": {
        "id": "pRy0mx8I5VhT"
      },
      "source": [
        "model_point = torch.load(\"picachu_model_標點model.pth\")\n",
        "model_point = model_point.cuda()"
      ],
      "execution_count": null,
      "outputs": []
    },
    {
      "cell_type": "markdown",
      "source": [
        "##「標框model」框出label並統一影像大小"
      ],
      "metadata": {
        "id": "meXQ646vQpMg"
      }
    },
    {
      "cell_type": "code",
      "metadata": {
        "id": "TmiYn87z4RvZ"
      },
      "source": [
        "import csv\n",
        "import os\n",
        "import numpy as np\n",
        "from PIL import Image\n",
        "import torch\n",
        "import cv2\n",
        "from google.colab.patches import cv2_imshow\n",
        "from numpy import newaxis\n",
        "class public_data_getpoint(torch.utils.data.Dataset):\n",
        "  def __init__(self, csv_file, mode='train', transform=None, c=(70, 450, 550, 320, 900, 8),transforms_point=None):\n",
        "\n",
        "    self.mode = mode\n",
        "    self.filename = []\n",
        "    self.point = []\n",
        "    self.label = []\n",
        "    self.c = c\n",
        "    self.transform = transform\n",
        "    self.transforms_point = transforms_point\n",
        "\n",
        "    if self.mode == 'test':\n",
        "      with open(csv_file, newline='') as csvfile:\n",
        "        reader = csv.DictReader(csvfile)\n",
        "        for row in reader:\n",
        "          self.filename.append(row['id'])\n",
        "\n",
        "    if self.mode == 'train':\n",
        "      with open(csv_file, newline='') as csvfile:\n",
        "        reader = csv.DictReader(csvfile)\n",
        "        for row in reader:\n",
        "          self.filename.append(row['filename'])\n",
        "          self.label.append(row['label'])\n",
        "\n",
        "    if self.mode == 'val':\n",
        "      with open(csv_file, newline='') as csvfile:\n",
        "        reader = csv.DictReader(csvfile)\n",
        "        for row in reader:\n",
        "          self.filename.append(row['filename'])\n",
        "          self.label.append(row['label'])\n",
        "\n",
        "  def __getitem__(self, index):\n",
        "\n",
        "    if self.mode == 'test':\n",
        "      picname = self.filename[index]\n",
        "      file_pathname = \"/content/public_testing_data\"\n",
        "      for picfilename in os.listdir(file_pathname):\n",
        "        if self.filename[index] == picfilename[:-4]:\n",
        "          data = cv2.imread(file_pathname+'/'+picfilename, cv2.IMREAD_GRAYSCALE)\n",
        "          data = data[newaxis,:,:]\n",
        "          data = torch.FloatTensor(data)\n",
        "          cut_range, c1, c2, c3, c4, d = self.c\n",
        "          data_ = data[:,c1-cut_range:c2+cut_range,c3-cut_range:c4+cut_range]\n",
        "          data_ = self.transforms_point(data_)\n",
        "          self.point = model_point(data_.resize(1,1,30,90).cuda()).resize(4)\n",
        "          o1 = self.point[0]*d - cut_range + c3\n",
        "          o2 = self.point[1]*d - cut_range + c1\n",
        "          o3 = self.point[2]*d - cut_range + c3\n",
        "          o4 = self.point[3]*d - cut_range + c1\n",
        "          data = data[:,o2.int():o4.int(), o1.int():o3.int()]\n",
        "          data = self.transform(data)\n",
        "      return data, picname\n",
        "      \n",
        "    if self.mode == 'train':\n",
        "      file_pathname = \"/content/public_training_data/public_training_data\"\n",
        "      for picfilename in os.listdir(file_pathname):\n",
        "        if self.filename[index] == picfilename[:-4]:\n",
        "          data = cv2.imread(file_pathname+'/'+picfilename, cv2.IMREAD_GRAYSCALE)\n",
        "          data = data[newaxis,:,:]\n",
        "          data = torch.FloatTensor(data)\n",
        "          cut_range, c1, c2, c3, c4, d = self.c\n",
        "          data_ = data[:,c1-cut_range:c2+cut_range,c3-cut_range:c4+cut_range]\n",
        "          data_ = self.transforms_point(data_)\n",
        "          self.point = model_point(data_.resize(1,1,30,90).cuda()).resize(4)\n",
        "          o1 = self.point[0]*d - cut_range + c3\n",
        "          o2 = self.point[1]*d - cut_range + c1\n",
        "          o3 = self.point[2]*d - cut_range + c3\n",
        "          o4 = self.point[3]*d - cut_range + c1\n",
        "          data = data[:,o2.int():o4.int(), o1.int():o3.int()]\n",
        "          data = self.transform(data)\n",
        "      label = torch.tensor(embedding(self.label[index]))\n",
        "      return data, label\n",
        "\n",
        "    if self.mode == 'val':\n",
        "      file_pathname = \"/content/public_training_data/public_testing_data\"\n",
        "      for picfilename in os.listdir(file_pathname):\n",
        "        if self.filename[index] == picfilename[:-4]:\n",
        "          data = cv2.imread(file_pathname+'/'+picfilename, cv2.IMREAD_GRAYSCALE)\n",
        "          data = data[newaxis,:,:]\n",
        "          data = torch.FloatTensor(data)\n",
        "          cut_range, c1, c2, c3, c4, d = self.c\n",
        "          data_ = data[:,c1-cut_range:c2+cut_range,c3-cut_range:c4+cut_range]\n",
        "          data_ = self.transforms_point(data_)\n",
        "          self.point = model_point(data_.resize(1,1,30,90).cuda()).resize(4)\n",
        "          o1 = self.point[0]*d - cut_range + c3\n",
        "          o2 = self.point[1]*d - cut_range + c1\n",
        "          o3 = self.point[2]*d - cut_range + c3\n",
        "          o4 = self.point[3]*d - cut_range + c1\n",
        "          data = data[:,o2.int():o4.int(), o1.int():o3.int()]\n",
        "          data = self.transform(data)\n",
        "      label = torch.tensor(embedding(self.label[index]))\n",
        "      return data, label\n",
        "\n",
        "  def __len__(self):\n",
        "    return len(self.filename)"
      ],
      "execution_count": null,
      "outputs": []
    },
    {
      "cell_type": "code",
      "metadata": {
        "id": "aLN4-jBI6UZL"
      },
      "source": [
        "from torchvision import transforms\n",
        "#c1, c2, c3, c4 = 450, 550, 320, 900\n",
        "#cut_range = 70\n",
        "#d = 8\n",
        "transforms_point = transforms.Compose([\n",
        "  transforms.Resize((int((c2-c1+2*cut_range)/d),int((c4-c3+2*cut_range)/d))),\n",
        "  #transforms.ToTensor()\n",
        "])"
      ],
      "execution_count": null,
      "outputs": []
    },
    {
      "cell_type": "code",
      "metadata": {
        "id": "zvssdqOk5Kia"
      },
      "source": [
        "from torchvision import transforms\n",
        "\n",
        "transforms = transforms.Compose([\n",
        "  #transforms.ToPILImage(),\n",
        "  transforms.Resize((32,160)),\n",
        "  #transforms.ToTensor()\n",
        "])"
      ],
      "execution_count": null,
      "outputs": []
    },
    {
      "cell_type": "markdown",
      "source": [
        "##處理資料(train，val，test)"
      ],
      "metadata": {
        "id": "0PA0AnXvRuWn"
      }
    },
    {
      "cell_type": "code",
      "metadata": {
        "id": "FgLNsokY5JCA"
      },
      "source": [
        "dataset_train = public_data_getpoint('/content/Training Label/public_training_data.csv', mode='train', transform=transforms,transforms_point=transforms_point)\n",
        "dataset_val = public_data_getpoint('/content/Training Label/public_testing_data.csv', mode='val', transform=transforms,transforms_point=transforms_point)\n",
        "dataset_test = public_data_getpoint('/content/submission_template.csv', mode='test', transform=transforms,transforms_point=transforms_point)"
      ],
      "execution_count": null,
      "outputs": []
    },
    {
      "cell_type": "code",
      "metadata": {
        "colab": {
          "base_uri": "https://localhost:8080/"
        },
        "id": "IMJGuXXw5Hm7",
        "outputId": "ed0706d9-8acd-419c-b439-7ebce52b5c84"
      },
      "source": [
        "print(\"The first image's shape in dataset_train :\", dataset_train.__getitem__(100)[0].size())\n",
        "print(\"The first image's shape in dataset_train :\", dataset_train.__getitem__(100)[0])\n",
        "print(\"There are\", dataset_train.__len__(), \"images in dataset_train.\")"
      ],
      "execution_count": null,
      "outputs": [
        {
          "output_type": "stream",
          "name": "stderr",
          "text": [
            "/usr/local/lib/python3.7/dist-packages/torch/_tensor.py:490: UserWarning: non-inplace resize is deprecated\n",
            "  warnings.warn(\"non-inplace resize is deprecated\")\n",
            "/usr/local/lib/python3.7/dist-packages/torch/nn/functional.py:718: UserWarning: Named tensors and all their associated APIs are an experimental feature and subject to change. Please do not use them for anything important until they are released as stable. (Triggered internally at  /pytorch/c10/core/TensorImpl.h:1156.)\n",
            "  return torch.max_pool2d(input, kernel_size, stride, padding, dilation, ceil_mode)\n"
          ]
        },
        {
          "output_type": "stream",
          "name": "stdout",
          "text": [
            "The first image's shape in dataset_train : torch.Size([1, 32, 160])\n",
            "The first image's shape in dataset_train : tensor([[[65.2656, 72.9661, 76.5312,  ..., 55.0164, 53.2031, 53.6501],\n",
            "         [69.8464, 77.8291, 79.4197,  ..., 53.8416, 55.8594, 54.4375],\n",
            "         [75.9077, 79.8237, 82.7729,  ..., 55.7188, 58.5491, 60.1392],\n",
            "         ...,\n",
            "         [83.9368, 85.3728, 84.8391,  ..., 47.4724, 49.9219, 52.8296],\n",
            "         [61.8491, 56.8433, 61.1384,  ..., 40.8728, 41.1169, 40.6562],\n",
            "         [50.5286, 55.2786, 51.5461,  ..., 34.4524, 35.2942, 30.5374]]])\n",
            "There are 12067 images in dataset_train.\n"
          ]
        },
        {
          "output_type": "stream",
          "name": "stderr",
          "text": [
            "/usr/local/lib/python3.7/dist-packages/ipykernel_launcher.py:79: UserWarning: To copy construct from a tensor, it is recommended to use sourceTensor.clone().detach() or sourceTensor.clone().detach().requires_grad_(True), rather than torch.tensor(sourceTensor).\n"
          ]
        }
      ]
    },
    {
      "cell_type": "code",
      "metadata": {
        "colab": {
          "base_uri": "https://localhost:8080/",
          "height": 630
        },
        "id": "wTuq80iw5F5m",
        "outputId": "1f6f12ce-3f1f-46fb-c25b-a9f27e32e3a8"
      },
      "source": [
        "for i in range(10):\n",
        "  x = torch.tensor(dataset_val.__getitem__(i)[0])\n",
        "  x = x.numpy().reshape(32,160)\n",
        "  cv2_imshow(x)\n",
        "  print(\"\")"
      ],
      "execution_count": null,
      "outputs": [
        {
          "output_type": "stream",
          "name": "stderr",
          "text": [
            "/usr/local/lib/python3.7/dist-packages/torch/_tensor.py:490: UserWarning: non-inplace resize is deprecated\n",
            "  warnings.warn(\"non-inplace resize is deprecated\")\n",
            "/usr/local/lib/python3.7/dist-packages/ipykernel_launcher.py:99: UserWarning: To copy construct from a tensor, it is recommended to use sourceTensor.clone().detach() or sourceTensor.clone().detach().requires_grad_(True), rather than torch.tensor(sourceTensor).\n",
            "/usr/local/lib/python3.7/dist-packages/ipykernel_launcher.py:2: UserWarning: To copy construct from a tensor, it is recommended to use sourceTensor.clone().detach() or sourceTensor.clone().detach().requires_grad_(True), rather than torch.tensor(sourceTensor).\n",
            "  \n"
          ]
        },
        {
          "output_type": "display_data",
          "data": {
            "image/png": "[encoded data removed]",
            "text/plain": [
              "<PIL.Image.Image image mode=L size=160x32 at 0x7F5140822DD0>"
            ]
          },
          "metadata": {}
        },
        {
          "output_type": "stream",
          "name": "stdout",
          "text": [
            "\n"
          ]
        },
        {
          "output_type": "display_data",
          "data": {
            "image/png": "[encoded data removed]",
            "text/plain": [
              "<PIL.Image.Image image mode=L size=160x32 at 0x7F51407AA190>"
            ]
          },
          "metadata": {}
        },
        {
          "output_type": "stream",
          "name": "stdout",
          "text": [
            "\n"
          ]
        },
        {
          "output_type": "display_data",
          "data": {
            "image/png": "[encoded data removed]",
            "text/plain": [
              "<PIL.Image.Image image mode=L size=160x32 at 0x7F5140822F90>"
            ]
          },
          "metadata": {}
        },
        {
          "output_type": "stream",
          "name": "stdout",
          "text": [
            "\n"
          ]
        },
        {
          "output_type": "display_data",
          "data": {
            "image/png": "[encoded data removed]",
            "text/plain": [
              "<PIL.Image.Image image mode=L size=160x32 at 0x7F5149D42B90>"
            ]
          },
          "metadata": {}
        },
        {
          "output_type": "stream",
          "name": "stdout",
          "text": [
            "\n"
          ]
        },
        {
          "output_type": "display_data",
          "data": {
            "image/png": "[encoded data removed]",
            "text/plain": [
              "<PIL.Image.Image image mode=L size=160x32 at 0x7F5149D72D90>"
            ]
          },
          "metadata": {}
        },
        {
          "output_type": "stream",
          "name": "stdout",
          "text": [
            "\n"
          ]
        },
        {
          "output_type": "display_data",
          "data": {
            "image/png": "[encoded data removed]",
            "text/plain": [
              "<PIL.Image.Image image mode=L size=160x32 at 0x7F5149D72E10>"
            ]
          },
          "metadata": {}
        },
        {
          "output_type": "stream",
          "name": "stdout",
          "text": [
            "\n"
          ]
        },
        {
          "output_type": "display_data",
          "data": {
            "image/png": "[encoded data removed]",
            "text/plain": [
              "<PIL.Image.Image image mode=L size=160x32 at 0x7F51407AA190>"
            ]
          },
          "metadata": {}
        },
        {
          "output_type": "stream",
          "name": "stdout",
          "text": [
            "\n"
          ]
        },
        {
          "output_type": "display_data",
          "data": {
            "image/png": "[encoded data removed]",
            "text/plain": [
              "<PIL.Image.Image image mode=L size=160x32 at 0x7F5140822F90>"
            ]
          },
          "metadata": {}
        },
        {
          "output_type": "stream",
          "name": "stdout",
          "text": [
            "\n"
          ]
        },
        {
          "output_type": "display_data",
          "data": {
            "image/png": "[encoded data removed]",
            "text/plain": [
              "<PIL.Image.Image image mode=L size=160x32 at 0x7F5149D42B90>"
            ]
          },
          "metadata": {}
        },
        {
          "output_type": "stream",
          "name": "stdout",
          "text": [
            "\n"
          ]
        },
        {
          "output_type": "display_data",
          "data": {
            "image/png": "[encoded data removed]",
            "text/plain": [
              "<PIL.Image.Image image mode=L size=160x32 at 0x7F5149D72F10>"
            ]
          },
          "metadata": {}
        },
        {
          "output_type": "stream",
          "name": "stdout",
          "text": [
            "\n"
          ]
        }
      ]
    },
    {
      "cell_type": "code",
      "metadata": {
        "id": "xATeI7QZGjvR"
      },
      "source": [
        "from torch.utils.data import DataLoader\n",
        "\n",
        "train_loader = DataLoader(dataset_train, batch_size=100, shuffle=True, drop_last=True)\n",
        "val_loader = DataLoader(dataset_val, batch_size=100, shuffle=False, drop_last=True)\n",
        "test_loader = DataLoader(dataset_test, batch_size=100, shuffle=False, drop_last=False)"
      ],
      "execution_count": null,
      "outputs": []
    },
    {
      "cell_type": "markdown",
      "metadata": {
        "id": "YFky-4zqGt7V"
      },
      "source": [
        "# 模型"
      ]
    },
    {
      "cell_type": "markdown",
      "source": [
        "##Resnet + GRU + ctc loss"
      ],
      "metadata": {
        "id": "m_A3VvVOR4UX"
      }
    },
    {
      "cell_type": "code",
      "metadata": {
        "id": "GZZZrSZSGtWh"
      },
      "source": [
        "import torch.nn as nn \n",
        "import torch.nn.functional as F\n",
        "import torchvision.models as models\n",
        "\n",
        "class MY_Model(nn.Module): \n",
        "  def __init__(self): \n",
        "    super().__init__()\n",
        "\n",
        "    self.h_n = torch.zeros(2,100,256).cuda()    #(128, 1, 32, 160)\n",
        "    #input_shape=(1,32,160)\n",
        "    self.cnn_model = models.resnet50(pretrained=True)\n",
        "    self.cnn_model.conv1 = nn.Conv2d(1, 64, kernel_size=(7, 7), stride=(1, 1), padding=(3, 3), bias=False) #output_shape=(64,32,160)\n",
        "    self.cnn_model.layer3[0].conv2 = nn.Conv2d(256, 256, kernel_size=(3, 3), stride=(2, 1), padding=(1, 1), bias=False)\n",
        "    self.cnn_model.layer3[0].downsample[0] =  nn.Conv2d(512, 1024, kernel_size=(1, 1), stride=(2, 1), bias=False)\n",
        "    self.cnn_model.layer4[0].conv2 = nn.Conv2d(512, 512, kernel_size=(3, 3), stride=(2, 1), padding=(1, 1), bias=False)\n",
        "    self.cnn_model.layer4[0].downsample[0] = nn.Conv2d(1024, 2048, kernel_size=(1, 1), stride=(2, 1), bias=False)\n",
        "    self.cnn_model = nn.Sequential(*(list(self.cnn_model.children())[:-2]))\n",
        "    ct = 0\n",
        "    for child in self.cnn_model.children():\n",
        "      ct += 1\n",
        "      if ct < 5:\n",
        "        for param in child.parameters():\n",
        "          param.requires_grad = False\n",
        "    self.maxpool = nn.MaxPool2d(kernel_size=(2, 1)) #output_shape=(512,1,40)\n",
        "    #output_shape=(512,1,40)\n",
        "    #output_shape=(512,40)\n",
        "    self.gru1 = nn.GRU(input_size=2048, hidden_size=256, bidirectional=True)   #output_shape=(256,40)\n",
        "    self.gru2 = nn.GRU(input_size=512, hidden_size=256, bidirectional=True)   #output_shape=(256,40)\n",
        "    self.fc = nn.Linear(512, 36)\n",
        "\n",
        "  def forward(self, x): \n",
        "    if not isinstance(x, torch.Tensor):\n",
        "      x = torch.Tensor(x)\n",
        "    out = self.cnn_model(x)\n",
        "    out = self.maxpool(out)\n",
        "    out = torch.squeeze(out, dim=2)              #output_shape=(128,512,40)\n",
        "    out = out.permute(2, 0, 1)                #output_shape=(40,128,512)\n",
        "    out, _ = self.gru1(out, self.h_n) #output_shape=(40,128,256)\n",
        "    out, _ = self.gru2(out, self.h_n)           #output_shape=(40,128,256)\n",
        "    out = self.fc(out)                     #output_shape=(40,128,36)\n",
        "    return out"
      ],
      "execution_count": null,
      "outputs": []
    },
    {
      "cell_type": "code",
      "metadata": {
        "id": "unZKKepKanb0"
      },
      "source": [
        "model = torch.load(\"/content/picachu_model_gru.pth\")\n",
        "model = model.cuda()"
      ],
      "execution_count": null,
      "outputs": []
    },
    {
      "cell_type": "code",
      "metadata": {
        "colab": {
          "base_uri": "https://localhost:8080/"
        },
        "id": "LdRsyLHEG3ka",
        "outputId": "e288ffd9-da65-4c13-8c1d-3926102cada7"
      },
      "source": [
        "model = MY_Model()\n",
        "model = model.cuda()\n",
        "print(model)"
      ],
      "execution_count": null,
      "outputs": [
        {
          "output_type": "stream",
          "name": "stdout",
          "text": [
            "MY_Model(\n",
            "  (cnn_model): Sequential(\n",
            "    (0): Conv2d(1, 64, kernel_size=(7, 7), stride=(1, 1), padding=(3, 3), bias=False)\n",
            "    (1): BatchNorm2d(64, eps=1e-05, momentum=0.1, affine=True, track_running_stats=True)\n",
            "    (2): ReLU(inplace=True)\n",
            "    (3): MaxPool2d(kernel_size=3, stride=2, padding=1, dilation=1, ceil_mode=False)\n",
            "    (4): Sequential(\n",
            "      (0): Bottleneck(\n",
            "        (conv1): Conv2d(64, 64, kernel_size=(1, 1), stride=(1, 1), bias=False)\n",
            "        (bn1): BatchNorm2d(64, eps=1e-05, momentum=0.1, affine=True, track_running_stats=True)\n",
            "        (conv2): Conv2d(64, 64, kernel_size=(3, 3), stride=(1, 1), padding=(1, 1), bias=False)\n",
            "        (bn2): BatchNorm2d(64, eps=1e-05, momentum=0.1, affine=True, track_running_stats=True)\n",
            "        (conv3): Conv2d(64, 256, kernel_size=(1, 1), stride=(1, 1), bias=False)\n",
            "        (bn3): BatchNorm2d(256, eps=1e-05, momentum=0.1, affine=True, track_running_stats=True)\n",
            "        (relu): ReLU(inplace=True)\n",
            "        (downsample): Sequential(\n",
            "          (0): Conv2d(64, 256, kernel_size=(1, 1), stride=(1, 1), bias=False)\n",
            "          (1): BatchNorm2d(256, eps=1e-05, momentum=0.1, affine=True, track_running_stats=True)\n",
            "        )\n",
            "      )\n",
            "      (1): Bottleneck(\n",
            "        (conv1): Conv2d(256, 64, kernel_size=(1, 1), stride=(1, 1), bias=False)\n",
            "        (bn1): BatchNorm2d(64, eps=1e-05, momentum=0.1, affine=True, track_running_stats=True)\n",
            "        (conv2): Conv2d(64, 64, kernel_size=(3, 3), stride=(1, 1), padding=(1, 1), bias=False)\n",
            "        (bn2): BatchNorm2d(64, eps=1e-05, momentum=0.1, affine=True, track_running_stats=True)\n",
            "        (conv3): Conv2d(64, 256, kernel_size=(1, 1), stride=(1, 1), bias=False)\n",
            "        (bn3): BatchNorm2d(256, eps=1e-05, momentum=0.1, affine=True, track_running_stats=True)\n",
            "        (relu): ReLU(inplace=True)\n",
            "      )\n",
            "      (2): Bottleneck(\n",
            "        (conv1): Conv2d(256, 64, kernel_size=(1, 1), stride=(1, 1), bias=False)\n",
            "        (bn1): BatchNorm2d(64, eps=1e-05, momentum=0.1, affine=True, track_running_stats=True)\n",
            "        (conv2): Conv2d(64, 64, kernel_size=(3, 3), stride=(1, 1), padding=(1, 1), bias=False)\n",
            "        (bn2): BatchNorm2d(64, eps=1e-05, momentum=0.1, affine=True, track_running_stats=True)\n",
            "        (conv3): Conv2d(64, 256, kernel_size=(1, 1), stride=(1, 1), bias=False)\n",
            "        (bn3): BatchNorm2d(256, eps=1e-05, momentum=0.1, affine=True, track_running_stats=True)\n",
            "        (relu): ReLU(inplace=True)\n",
            "      )\n",
            "    )\n",
            "    (5): Sequential(\n",
            "      (0): Bottleneck(\n",
            "        (conv1): Conv2d(256, 128, kernel_size=(1, 1), stride=(1, 1), bias=False)\n",
            "        (bn1): BatchNorm2d(128, eps=1e-05, momentum=0.1, affine=True, track_running_stats=True)\n",
            "        (conv2): Conv2d(128, 128, kernel_size=(3, 3), stride=(2, 2), padding=(1, 1), bias=False)\n",
            "        (bn2): BatchNorm2d(128, eps=1e-05, momentum=0.1, affine=True, track_running_stats=True)\n",
            "        (conv3): Conv2d(128, 512, kernel_size=(1, 1), stride=(1, 1), bias=False)\n",
            "        (bn3): BatchNorm2d(512, eps=1e-05, momentum=0.1, affine=True, track_running_stats=True)\n",
            "        (relu): ReLU(inplace=True)\n",
            "        (downsample): Sequential(\n",
            "          (0): Conv2d(256, 512, kernel_size=(1, 1), stride=(2, 2), bias=False)\n",
            "          (1): BatchNorm2d(512, eps=1e-05, momentum=0.1, affine=True, track_running_stats=True)\n",
            "        )\n",
            "      )\n",
            "      (1): Bottleneck(\n",
            "        (conv1): Conv2d(512, 128, kernel_size=(1, 1), stride=(1, 1), bias=False)\n",
            "        (bn1): BatchNorm2d(128, eps=1e-05, momentum=0.1, affine=True, track_running_stats=True)\n",
            "        (conv2): Conv2d(128, 128, kernel_size=(3, 3), stride=(1, 1), padding=(1, 1), bias=False)\n",
            "        (bn2): BatchNorm2d(128, eps=1e-05, momentum=0.1, affine=True, track_running_stats=True)\n",
            "        (conv3): Conv2d(128, 512, kernel_size=(1, 1), stride=(1, 1), bias=False)\n",
            "        (bn3): BatchNorm2d(512, eps=1e-05, momentum=0.1, affine=True, track_running_stats=True)\n",
            "        (relu): ReLU(inplace=True)\n",
            "      )\n",
            "      (2): Bottleneck(\n",
            "        (conv1): Conv2d(512, 128, kernel_size=(1, 1), stride=(1, 1), bias=False)\n",
            "        (bn1): BatchNorm2d(128, eps=1e-05, momentum=0.1, affine=True, track_running_stats=True)\n",
            "        (conv2): Conv2d(128, 128, kernel_size=(3, 3), stride=(1, 1), padding=(1, 1), bias=False)\n",
            "        (bn2): BatchNorm2d(128, eps=1e-05, momentum=0.1, affine=True, track_running_stats=True)\n",
            "        (conv3): Conv2d(128, 512, kernel_size=(1, 1), stride=(1, 1), bias=False)\n",
            "        (bn3): BatchNorm2d(512, eps=1e-05, momentum=0.1, affine=True, track_running_stats=True)\n",
            "        (relu): ReLU(inplace=True)\n",
            "      )\n",
            "      (3): Bottleneck(\n",
            "        (conv1): Conv2d(512, 128, kernel_size=(1, 1), stride=(1, 1), bias=False)\n",
            "        (bn1): BatchNorm2d(128, eps=1e-05, momentum=0.1, affine=True, track_running_stats=True)\n",
            "        (conv2): Conv2d(128, 128, kernel_size=(3, 3), stride=(1, 1), padding=(1, 1), bias=False)\n",
            "        (bn2): BatchNorm2d(128, eps=1e-05, momentum=0.1, affine=True, track_running_stats=True)\n",
            "        (conv3): Conv2d(128, 512, kernel_size=(1, 1), stride=(1, 1), bias=False)\n",
            "        (bn3): BatchNorm2d(512, eps=1e-05, momentum=0.1, affine=True, track_running_stats=True)\n",
            "        (relu): ReLU(inplace=True)\n",
            "      )\n",
            "    )\n",
            "    (6): Sequential(\n",
            "      (0): Bottleneck(\n",
            "        (conv1): Conv2d(512, 256, kernel_size=(1, 1), stride=(1, 1), bias=False)\n",
            "        (bn1): BatchNorm2d(256, eps=1e-05, momentum=0.1, affine=True, track_running_stats=True)\n",
            "        (conv2): Conv2d(256, 256, kernel_size=(3, 3), stride=(2, 1), padding=(1, 1), bias=False)\n",
            "        (bn2): BatchNorm2d(256, eps=1e-05, momentum=0.1, affine=True, track_running_stats=True)\n",
            "        (conv3): Conv2d(256, 1024, kernel_size=(1, 1), stride=(1, 1), bias=False)\n",
            "        (bn3): BatchNorm2d(1024, eps=1e-05, momentum=0.1, affine=True, track_running_stats=True)\n",
            "        (relu): ReLU(inplace=True)\n",
            "        (downsample): Sequential(\n",
            "          (0): Conv2d(512, 1024, kernel_size=(1, 1), stride=(2, 1), bias=False)\n",
            "          (1): BatchNorm2d(1024, eps=1e-05, momentum=0.1, affine=True, track_running_stats=True)\n",
            "        )\n",
            "      )\n",
            "      (1): Bottleneck(\n",
            "        (conv1): Conv2d(1024, 256, kernel_size=(1, 1), stride=(1, 1), bias=False)\n",
            "        (bn1): BatchNorm2d(256, eps=1e-05, momentum=0.1, affine=True, track_running_stats=True)\n",
            "        (conv2): Conv2d(256, 256, kernel_size=(3, 3), stride=(1, 1), padding=(1, 1), bias=False)\n",
            "        (bn2): BatchNorm2d(256, eps=1e-05, momentum=0.1, affine=True, track_running_stats=True)\n",
            "        (conv3): Conv2d(256, 1024, kernel_size=(1, 1), stride=(1, 1), bias=False)\n",
            "        (bn3): BatchNorm2d(1024, eps=1e-05, momentum=0.1, affine=True, track_running_stats=True)\n",
            "        (relu): ReLU(inplace=True)\n",
            "      )\n",
            "      (2): Bottleneck(\n",
            "        (conv1): Conv2d(1024, 256, kernel_size=(1, 1), stride=(1, 1), bias=False)\n",
            "        (bn1): BatchNorm2d(256, eps=1e-05, momentum=0.1, affine=True, track_running_stats=True)\n",
            "        (conv2): Conv2d(256, 256, kernel_size=(3, 3), stride=(1, 1), padding=(1, 1), bias=False)\n",
            "        (bn2): BatchNorm2d(256, eps=1e-05, momentum=0.1, affine=True, track_running_stats=True)\n",
            "        (conv3): Conv2d(256, 1024, kernel_size=(1, 1), stride=(1, 1), bias=False)\n",
            "        (bn3): BatchNorm2d(1024, eps=1e-05, momentum=0.1, affine=True, track_running_stats=True)\n",
            "        (relu): ReLU(inplace=True)\n",
            "      )\n",
            "      (3): Bottleneck(\n",
            "        (conv1): Conv2d(1024, 256, kernel_size=(1, 1), stride=(1, 1), bias=False)\n",
            "        (bn1): BatchNorm2d(256, eps=1e-05, momentum=0.1, affine=True, track_running_stats=True)\n",
            "        (conv2): Conv2d(256, 256, kernel_size=(3, 3), stride=(1, 1), padding=(1, 1), bias=False)\n",
            "        (bn2): BatchNorm2d(256, eps=1e-05, momentum=0.1, affine=True, track_running_stats=True)\n",
            "        (conv3): Conv2d(256, 1024, kernel_size=(1, 1), stride=(1, 1), bias=False)\n",
            "        (bn3): BatchNorm2d(1024, eps=1e-05, momentum=0.1, affine=True, track_running_stats=True)\n",
            "        (relu): ReLU(inplace=True)\n",
            "      )\n",
            "      (4): Bottleneck(\n",
            "        (conv1): Conv2d(1024, 256, kernel_size=(1, 1), stride=(1, 1), bias=False)\n",
            "        (bn1): BatchNorm2d(256, eps=1e-05, momentum=0.1, affine=True, track_running_stats=True)\n",
            "        (conv2): Conv2d(256, 256, kernel_size=(3, 3), stride=(1, 1), padding=(1, 1), bias=False)\n",
            "        (bn2): BatchNorm2d(256, eps=1e-05, momentum=0.1, affine=True, track_running_stats=True)\n",
            "        (conv3): Conv2d(256, 1024, kernel_size=(1, 1), stride=(1, 1), bias=False)\n",
            "        (bn3): BatchNorm2d(1024, eps=1e-05, momentum=0.1, affine=True, track_running_stats=True)\n",
            "        (relu): ReLU(inplace=True)\n",
            "      )\n",
            "      (5): Bottleneck(\n",
            "        (conv1): Conv2d(1024, 256, kernel_size=(1, 1), stride=(1, 1), bias=False)\n",
            "        (bn1): BatchNorm2d(256, eps=1e-05, momentum=0.1, affine=True, track_running_stats=True)\n",
            "        (conv2): Conv2d(256, 256, kernel_size=(3, 3), stride=(1, 1), padding=(1, 1), bias=False)\n",
            "        (bn2): BatchNorm2d(256, eps=1e-05, momentum=0.1, affine=True, track_running_stats=True)\n",
            "        (conv3): Conv2d(256, 1024, kernel_size=(1, 1), stride=(1, 1), bias=False)\n",
            "        (bn3): BatchNorm2d(1024, eps=1e-05, momentum=0.1, affine=True, track_running_stats=True)\n",
            "        (relu): ReLU(inplace=True)\n",
            "      )\n",
            "    )\n",
            "    (7): Sequential(\n",
            "      (0): Bottleneck(\n",
            "        (conv1): Conv2d(1024, 512, kernel_size=(1, 1), stride=(1, 1), bias=False)\n",
            "        (bn1): BatchNorm2d(512, eps=1e-05, momentum=0.1, affine=True, track_running_stats=True)\n",
            "        (conv2): Conv2d(512, 512, kernel_size=(3, 3), stride=(2, 1), padding=(1, 1), bias=False)\n",
            "        (bn2): BatchNorm2d(512, eps=1e-05, momentum=0.1, affine=True, track_running_stats=True)\n",
            "        (conv3): Conv2d(512, 2048, kernel_size=(1, 1), stride=(1, 1), bias=False)\n",
            "        (bn3): BatchNorm2d(2048, eps=1e-05, momentum=0.1, affine=True, track_running_stats=True)\n",
            "        (relu): ReLU(inplace=True)\n",
            "        (downsample): Sequential(\n",
            "          (0): Conv2d(1024, 2048, kernel_size=(1, 1), stride=(2, 1), bias=False)\n",
            "          (1): BatchNorm2d(2048, eps=1e-05, momentum=0.1, affine=True, track_running_stats=True)\n",
            "        )\n",
            "      )\n",
            "      (1): Bottleneck(\n",
            "        (conv1): Conv2d(2048, 512, kernel_size=(1, 1), stride=(1, 1), bias=False)\n",
            "        (bn1): BatchNorm2d(512, eps=1e-05, momentum=0.1, affine=True, track_running_stats=True)\n",
            "        (conv2): Conv2d(512, 512, kernel_size=(3, 3), stride=(1, 1), padding=(1, 1), bias=False)\n",
            "        (bn2): BatchNorm2d(512, eps=1e-05, momentum=0.1, affine=True, track_running_stats=True)\n",
            "        (conv3): Conv2d(512, 2048, kernel_size=(1, 1), stride=(1, 1), bias=False)\n",
            "        (bn3): BatchNorm2d(2048, eps=1e-05, momentum=0.1, affine=True, track_running_stats=True)\n",
            "        (relu): ReLU(inplace=True)\n",
            "      )\n",
            "      (2): Bottleneck(\n",
            "        (conv1): Conv2d(2048, 512, kernel_size=(1, 1), stride=(1, 1), bias=False)\n",
            "        (bn1): BatchNorm2d(512, eps=1e-05, momentum=0.1, affine=True, track_running_stats=True)\n",
            "        (conv2): Conv2d(512, 512, kernel_size=(3, 3), stride=(1, 1), padding=(1, 1), bias=False)\n",
            "        (bn2): BatchNorm2d(512, eps=1e-05, momentum=0.1, affine=True, track_running_stats=True)\n",
            "        (conv3): Conv2d(512, 2048, kernel_size=(1, 1), stride=(1, 1), bias=False)\n",
            "        (bn3): BatchNorm2d(2048, eps=1e-05, momentum=0.1, affine=True, track_running_stats=True)\n",
            "        (relu): ReLU(inplace=True)\n",
            "      )\n",
            "    )\n",
            "  )\n",
            "  (maxpool): MaxPool2d(kernel_size=(2, 1), stride=(2, 1), padding=0, dilation=1, ceil_mode=False)\n",
            "  (gru1): GRU(2048, 256, bidirectional=True)\n",
            "  (gru2): GRU(512, 256, bidirectional=True)\n",
            "  (fc): Linear(in_features=512, out_features=36, bias=True)\n",
            ")\n"
          ]
        }
      ]
    },
    {
      "cell_type": "code",
      "metadata": {
        "id": "nA-nw9blG8qq"
      },
      "source": [
        "import torch.nn as nn\n",
        "import torch.optim as optim\n",
        "\n",
        "criterion = nn.CTCLoss(blank=0)\n",
        "optimizer = optim.Adam(model.parameters(), lr=1e-3)\n",
        "criterion = criterion.cuda()"
      ],
      "execution_count": null,
      "outputs": []
    },
    {
      "cell_type": "code",
      "metadata": {
        "id": "5HT2noLlHB6h"
      },
      "source": [
        "def train(input_data, model, criterion, optimizer):\n",
        "  model.train()\n",
        "  loss_list = []\n",
        "  pred_str = []\n",
        "  label_str = []\n",
        "  for i, data in enumerate(input_data, 0):\n",
        "    images, labels = data[0].cuda(), data[1].cuda()\n",
        "    optimizer.zero_grad()\n",
        "    outputs = model(images)\n",
        "    outputs_ = outputs.log_softmax(2).cpu()\n",
        "    loss = criterion(outputs_, labels, torch.full(size=(100,), fill_value=40, dtype=torch.long), torch.full(size=(100,), fill_value=16, dtype=torch.long))\n",
        "    loss.backward()\n",
        "    optimizer.step()\n",
        "    outputs = outputs.argmax(2)\n",
        "    for j in range(100):\n",
        "      pred_str.append(un_embedding(outputs[:,j]))\n",
        "      label_str.append(un_embedding(labels[j,:]))\n",
        "    loss_list.append(loss)\n",
        "  sco = score(pred_str,label_str)\n",
        "  #sco = 0\n",
        "  loss = sum(loss_list) / len(loss_list)\n",
        "  return sco, loss"
      ],
      "execution_count": null,
      "outputs": []
    },
    {
      "cell_type": "code",
      "metadata": {
        "id": "eQRc92PGHEa9"
      },
      "source": [
        "def val(input_data, model, criterion):\n",
        "  model.eval()\n",
        "  loss_list = []\n",
        "  pred_str = []\n",
        "  label_str = []\n",
        "  with torch.no_grad():\n",
        "    for data in input_data:\n",
        "      images, labels = data[0].cuda(), data[1].cuda()\n",
        "      outputs = model(images)\n",
        "      outputs_ = outputs.log_softmax(2).cpu()\n",
        "      loss = criterion(outputs_, labels, torch.full(size=(100,), fill_value=40, dtype=torch.long), torch.full(size=(100,), fill_value=16, dtype=torch.long))\n",
        "      outputs = outputs.argmax(2)\n",
        "      for j in range(100):\n",
        "        pred_str.append(un_embedding(outputs[:,j]))\n",
        "        label_str.append(un_embedding(labels[j,:]))\n",
        "      loss_list.append(loss)\n",
        "  sco = score(pred_str,label_str)\n",
        "  #sco = 0\n",
        "  loss = sum(loss_list) / len(loss_list)\n",
        "  return sco, loss"
      ],
      "execution_count": null,
      "outputs": []
    },
    {
      "cell_type": "code",
      "metadata": {
        "id": "LPde2uJ8HGSm"
      },
      "source": [
        "import time\n",
        "def epoch_time(start_time, end_time):\n",
        "  elapsed_time = end_time - start_time\n",
        "  elapsed_mins = int(elapsed_time / 60)\n",
        "  elapsed_secs = int(elapsed_time - (elapsed_mins * 60))\n",
        "  return elapsed_mins, elapsed_secs"
      ],
      "execution_count": null,
      "outputs": []
    },
    {
      "cell_type": "code",
      "metadata": {
        "colab": {
          "base_uri": "https://localhost:8080/"
        },
        "id": "DRKHh2ZTHIft",
        "outputId": "0ca445b8-283a-447f-e728-d286c0031807"
      },
      "source": [
        "max_epochs = 3\n",
        "log_interval = 1\n",
        "train_sco_list = []\n",
        "train_loss_list = []\n",
        "val_sco_list = []\n",
        "val_loss_list = []\n",
        "\n",
        "for epoch in range(1, max_epochs + 1):\n",
        "  start_time = time.time()\n",
        "  train_sco, train_loss = train(train_loader, model, criterion, optimizer)\n",
        "  val_sco, val_loss = val(val_loader, model, criterion)\n",
        "  end_time = time.time()\n",
        "  epoch_mins, epoch_secs = epoch_time(start_time, end_time)\n",
        "  \n",
        "  train_sco_list.append(train_sco)\n",
        "  train_loss_list.append(train_loss)\n",
        "  val_sco_list.append(val_sco)\n",
        "  val_loss_list.append(val_loss)\n",
        "\n",
        "  if epoch % log_interval == 0:\n",
        "    print('=' * 20, 'Epoch', epoch, '=' * 20)\n",
        "    print(f'Epoch Time: {epoch_mins}m {epoch_secs}s')\n",
        "    print('Train Sco: {:.6f} Train Loss: {:.6f}'.format(train_sco, train_loss))\n",
        "    print('  Val Sco: {:.6f}   Val Loss: {:.6f}'.format(val_sco, val_loss))\n",
        "  torch.save(model, \"picachu_model_gru.pth\")"
      ],
      "execution_count": null,
      "outputs": [
        {
          "output_type": "stream",
          "name": "stderr",
          "text": [
            "/usr/local/lib/python3.7/dist-packages/torch/_tensor.py:490: UserWarning: non-inplace resize is deprecated\n",
            "  warnings.warn(\"non-inplace resize is deprecated\")\n",
            "/usr/local/lib/python3.7/dist-packages/ipykernel_launcher.py:71: UserWarning: To copy construct from a tensor, it is recommended to use sourceTensor.clone().detach() or sourceTensor.clone().detach().requires_grad_(True), rather than torch.tensor(sourceTensor).\n",
            "/usr/local/lib/python3.7/dist-packages/ipykernel_launcher.py:91: UserWarning: To copy construct from a tensor, it is recommended to use sourceTensor.clone().detach() or sourceTensor.clone().detach().requires_grad_(True), rather than torch.tensor(sourceTensor).\n"
          ]
        },
        {
          "output_type": "stream",
          "name": "stdout",
          "text": [
            "==================== Epoch 1 ====================\n",
            "Epoch Time: 18m 1s\n",
            "Train Sco: 11999.063510 Train Loss: 0.531485\n",
            "  Val Sco: 6000.080358   Val Loss: 0.182095\n",
            "==================== Epoch 2 ====================\n",
            "Epoch Time: 18m 13s\n",
            "Train Sco: 11932.064388 Train Loss: -0.141253\n",
            "  Val Sco: 5890.053243   Val Loss: -0.273851\n",
            "==================== Epoch 3 ====================\n",
            "Epoch Time: 18m 23s\n",
            "Train Sco: 11360.046739 Train Loss: -0.320943\n",
            "  Val Sco: 5484.041252   Val Loss: -0.406308\n"
          ]
        }
      ]
    },
    {
      "cell_type": "code",
      "metadata": {
        "colab": {
          "base_uri": "https://localhost:8080/"
        },
        "id": "fR4CAGgxUeiw",
        "outputId": "45eae1da-5eef-4180-d49c-188c76bbe28a"
      },
      "source": [
        "max_epochs = 3\n",
        "log_interval = 1\n",
        "train_sco_list = []\n",
        "train_loss_list = []\n",
        "val_sco_list = []\n",
        "val_loss_list = []\n",
        "\n",
        "for epoch in range(1, max_epochs + 1):\n",
        "  start_time = time.time()\n",
        "  train_sco, train_loss = train(train_loader, model, criterion, optimizer)\n",
        "  val_sco, val_loss = val(val_loader, model, criterion)\n",
        "  end_time = time.time()\n",
        "  epoch_mins, epoch_secs = epoch_time(start_time, end_time)\n",
        "  \n",
        "  train_sco_list.append(train_sco)\n",
        "  train_loss_list.append(train_loss)\n",
        "  val_sco_list.append(val_sco)\n",
        "  val_loss_list.append(val_loss)\n",
        "\n",
        "  if epoch % log_interval == 0:\n",
        "    print('=' * 20, 'Epoch', epoch, '=' * 20)\n",
        "    print(f'Epoch Time: {epoch_mins}m {epoch_secs}s')\n",
        "    print('Train Sco: {:.6f} Train Loss: {:.6f}'.format(train_sco, train_loss))\n",
        "    print('  Val Sco: {:.6f}   Val Loss: {:.6f}'.format(val_sco, val_loss))\n",
        "  torch.save(model, \"picachu_model_gru.pth\")"
      ],
      "execution_count": null,
      "outputs": [
        {
          "output_type": "stream",
          "name": "stderr",
          "text": [
            "/usr/local/lib/python3.7/dist-packages/torch/_tensor.py:490: UserWarning: non-inplace resize is deprecated\n",
            "  warnings.warn(\"non-inplace resize is deprecated\")\n",
            "/usr/local/lib/python3.7/dist-packages/ipykernel_launcher.py:71: UserWarning: To copy construct from a tensor, it is recommended to use sourceTensor.clone().detach() or sourceTensor.clone().detach().requires_grad_(True), rather than torch.tensor(sourceTensor).\n",
            "/usr/local/lib/python3.7/dist-packages/ipykernel_launcher.py:91: UserWarning: To copy construct from a tensor, it is recommended to use sourceTensor.clone().detach() or sourceTensor.clone().detach().requires_grad_(True), rather than torch.tensor(sourceTensor).\n"
          ]
        },
        {
          "output_type": "stream",
          "name": "stdout",
          "text": [
            "==================== Epoch 1 ====================\n",
            "Epoch Time: 18m 36s\n",
            "Train Sco: 9613.034267 Train Loss: -0.526751\n",
            "  Val Sco: 4323.030156   Val Loss: -0.587596\n",
            "==================== Epoch 2 ====================\n",
            "Epoch Time: 18m 49s\n",
            "Train Sco: 8065.028210 Train Loss: -0.628813\n",
            "  Val Sco: 3692.025042   Val Loss: -0.640870\n",
            "==================== Epoch 3 ====================\n",
            "Epoch Time: 19m 4s\n",
            "Train Sco: 7115.024146 Train Loss: -0.684231\n",
            "  Val Sco: 3337.022323   Val Loss: -0.712757\n"
          ]
        }
      ]
    },
    {
      "cell_type": "code",
      "metadata": {
        "colab": {
          "base_uri": "https://localhost:8080/"
        },
        "id": "C8kmWOyZhjbV",
        "outputId": "cc2684cb-8371-427f-9d87-a1d3beb8819f"
      },
      "source": [
        "max_epochs = 2\n",
        "log_interval = 1\n",
        "train_sco_list = []\n",
        "train_loss_list = []\n",
        "val_sco_list = []\n",
        "val_loss_list = []\n",
        "\n",
        "for epoch in range(1, max_epochs + 1):\n",
        "  start_time = time.time()\n",
        "  train_sco, train_loss = train(train_loader, model, criterion, optimizer)\n",
        "  val_sco, val_loss = val(val_loader, model, criterion)\n",
        "  end_time = time.time()\n",
        "  epoch_mins, epoch_secs = epoch_time(start_time, end_time)\n",
        "  \n",
        "  train_sco_list.append(train_sco)\n",
        "  train_loss_list.append(train_loss)\n",
        "  val_sco_list.append(val_sco)\n",
        "  val_loss_list.append(val_loss)\n",
        "\n",
        "  if epoch % log_interval == 0:\n",
        "    print('=' * 20, 'Epoch', epoch, '=' * 20)\n",
        "    print(f'Epoch Time: {epoch_mins}m {epoch_secs}s')\n",
        "    print('Train Sco: {:.6f} Train Loss: {:.6f}'.format(train_sco, train_loss))\n",
        "    print('  Val Sco: {:.6f}   Val Loss: {:.6f}'.format(val_sco, val_loss))\n",
        "  torch.save(model, \"picachu_model_gru.pth\")"
      ],
      "execution_count": null,
      "outputs": [
        {
          "output_type": "stream",
          "name": "stderr",
          "text": [
            "/usr/local/lib/python3.7/dist-packages/torch/_tensor.py:490: UserWarning: non-inplace resize is deprecated\n",
            "  warnings.warn(\"non-inplace resize is deprecated\")\n",
            "/usr/local/lib/python3.7/dist-packages/ipykernel_launcher.py:71: UserWarning: To copy construct from a tensor, it is recommended to use sourceTensor.clone().detach() or sourceTensor.clone().detach().requires_grad_(True), rather than torch.tensor(sourceTensor).\n",
            "/usr/local/lib/python3.7/dist-packages/ipykernel_launcher.py:91: UserWarning: To copy construct from a tensor, it is recommended to use sourceTensor.clone().detach() or sourceTensor.clone().detach().requires_grad_(True), rather than torch.tensor(sourceTensor).\n"
          ]
        },
        {
          "output_type": "stream",
          "name": "stdout",
          "text": [
            "==================== Epoch 1 ====================\n",
            "Epoch Time: 19m 5s\n",
            "Train Sco: 6775.023063 Train Loss: -0.710209\n",
            "  Val Sco: 3160.020945   Val Loss: -0.743402\n",
            "==================== Epoch 2 ====================\n",
            "Epoch Time: 19m 3s\n",
            "Train Sco: 5828.020296 Train Loss: -0.756443\n",
            "  Val Sco: 3151.022456   Val Loss: -0.742760\n"
          ]
        }
      ]
    },
    {
      "cell_type": "code",
      "metadata": {
        "colab": {
          "base_uri": "https://localhost:8080/"
        },
        "id": "Hz0jnx55udSg",
        "outputId": "ff2bfcb4-721d-42e6-dc14-cede7b029e74"
      },
      "source": [
        "max_epochs = 3\n",
        "log_interval = 1\n",
        "train_sco_list = []\n",
        "train_loss_list = []\n",
        "val_sco_list = []\n",
        "val_loss_list = []\n",
        "\n",
        "for epoch in range(1, max_epochs + 1):\n",
        "  start_time = time.time()\n",
        "  train_sco, train_loss = train(train_loader, model, criterion, optimizer)\n",
        "  val_sco, val_loss = val(val_loader, model, criterion)\n",
        "  end_time = time.time()\n",
        "  epoch_mins, epoch_secs = epoch_time(start_time, end_time)\n",
        "  \n",
        "  train_sco_list.append(train_sco)\n",
        "  train_loss_list.append(train_loss)\n",
        "  val_sco_list.append(val_sco)\n",
        "  val_loss_list.append(val_loss)\n",
        "\n",
        "  if epoch % log_interval == 0:\n",
        "    print('=' * 20, 'Epoch', epoch, '=' * 20)\n",
        "    print(f'Epoch Time: {epoch_mins}m {epoch_secs}s')\n",
        "    print('Train Sco: {:.6f} Train Loss: {:.6f}'.format(train_sco, train_loss))\n",
        "    print('  Val Sco: {:.6f}   Val Loss: {:.6f}'.format(val_sco, val_loss))\n",
        "  torch.save(model, \"picachu_model_gru.pth\")"
      ],
      "execution_count": null,
      "outputs": [
        {
          "output_type": "stream",
          "name": "stderr",
          "text": [
            "/usr/local/lib/python3.7/dist-packages/torch/_tensor.py:490: UserWarning: non-inplace resize is deprecated\n",
            "  warnings.warn(\"non-inplace resize is deprecated\")\n",
            "/usr/local/lib/python3.7/dist-packages/ipykernel_launcher.py:79: UserWarning: To copy construct from a tensor, it is recommended to use sourceTensor.clone().detach() or sourceTensor.clone().detach().requires_grad_(True), rather than torch.tensor(sourceTensor).\n",
            "/usr/local/lib/python3.7/dist-packages/ipykernel_launcher.py:99: UserWarning: To copy construct from a tensor, it is recommended to use sourceTensor.clone().detach() or sourceTensor.clone().detach().requires_grad_(True), rather than torch.tensor(sourceTensor).\n"
          ]
        },
        {
          "output_type": "stream",
          "name": "stdout",
          "text": [
            "==================== Epoch 1 ====================\n",
            "Epoch Time: 17m 37s\n",
            "Train Sco: 5853.020342 Train Loss: -0.763153\n",
            "  Val Sco: 2751.017454   Val Loss: -0.795688\n",
            "==================== Epoch 2 ====================\n",
            "Epoch Time: 17m 10s\n",
            "Train Sco: 5798.020474 Train Loss: -0.776134\n",
            "  Val Sco: 3078.022784   Val Loss: -0.749990\n",
            "==================== Epoch 3 ====================\n",
            "Epoch Time: 17m 10s\n",
            "Train Sco: 5031.017269 Train Loss: -0.812558\n",
            "  Val Sco: 2648.017506   Val Loss: -0.808113\n"
          ]
        }
      ]
    },
    {
      "cell_type": "code",
      "metadata": {
        "colab": {
          "base_uri": "https://localhost:8080/"
        },
        "id": "L4z4W5SOmxMc",
        "outputId": "936a06e4-df87-40a4-947e-38dc3ec359b9"
      },
      "source": [
        "max_epochs = 3\n",
        "log_interval = 1\n",
        "train_sco_list = []\n",
        "train_loss_list = []\n",
        "val_sco_list = []\n",
        "val_loss_list = []\n",
        "\n",
        "for epoch in range(1, max_epochs + 1):\n",
        "  start_time = time.time()\n",
        "  train_sco, train_loss = train(train_loader, model, criterion, optimizer)\n",
        "  val_sco, val_loss = val(val_loader, model, criterion)\n",
        "  end_time = time.time()\n",
        "  epoch_mins, epoch_secs = epoch_time(start_time, end_time)\n",
        "  \n",
        "  train_sco_list.append(train_sco)\n",
        "  train_loss_list.append(train_loss)\n",
        "  val_sco_list.append(val_sco)\n",
        "  val_loss_list.append(val_loss)\n",
        "\n",
        "  if epoch % log_interval == 0:\n",
        "    print('=' * 20, 'Epoch', epoch, '=' * 20)\n",
        "    print(f'Epoch Time: {epoch_mins}m {epoch_secs}s')\n",
        "    print('Train Sco: {:.6f} Train Loss: {:.6f}'.format(train_sco, train_loss))\n",
        "    print('  Val Sco: {:.6f}   Val Loss: {:.6f}'.format(val_sco, val_loss))\n",
        "  torch.save(model, \"picachu_model_gru.pth\")"
      ],
      "execution_count": null,
      "outputs": [
        {
          "output_type": "stream",
          "name": "stderr",
          "text": [
            "/usr/local/lib/python3.7/dist-packages/torch/_tensor.py:490: UserWarning: non-inplace resize is deprecated\n",
            "  warnings.warn(\"non-inplace resize is deprecated\")\n",
            "/usr/local/lib/python3.7/dist-packages/ipykernel_launcher.py:79: UserWarning: To copy construct from a tensor, it is recommended to use sourceTensor.clone().detach() or sourceTensor.clone().detach().requires_grad_(True), rather than torch.tensor(sourceTensor).\n",
            "/usr/local/lib/python3.7/dist-packages/ipykernel_launcher.py:99: UserWarning: To copy construct from a tensor, it is recommended to use sourceTensor.clone().detach() or sourceTensor.clone().detach().requires_grad_(True), rather than torch.tensor(sourceTensor).\n"
          ]
        },
        {
          "output_type": "stream",
          "name": "stdout",
          "text": [
            "==================== Epoch 1 ====================\n",
            "Epoch Time: 17m 13s\n",
            "Train Sco: 4830.016704 Train Loss: -0.806223\n",
            "  Val Sco: 2324.015011   Val Loss: -0.829546\n",
            "==================== Epoch 2 ====================\n",
            "Epoch Time: 17m 0s\n",
            "Train Sco: 4595.015084 Train Loss: -0.838785\n",
            "  Val Sco: 2266.014507   Val Loss: -0.839882\n",
            "==================== Epoch 3 ====================\n",
            "Epoch Time: 16m 55s\n",
            "Train Sco: 3902.012229 Train Loss: -0.870358\n",
            "  Val Sco: 2084.013363   Val Loss: -0.845497\n"
          ]
        }
      ]
    },
    {
      "cell_type": "code",
      "metadata": {
        "colab": {
          "base_uri": "https://localhost:8080/"
        },
        "id": "ozy7fCbRbeqi",
        "outputId": "6caef429-e479-4c4e-d09e-130034c65327"
      },
      "source": [
        "max_epochs = 5\n",
        "log_interval = 1\n",
        "train_sco_list = []\n",
        "train_loss_list = []\n",
        "val_sco_list = []\n",
        "val_loss_list = []\n",
        "\n",
        "for epoch in range(1, max_epochs + 1):\n",
        "  start_time = time.time()\n",
        "  train_sco, train_loss = train(train_loader, model, criterion, optimizer)\n",
        "  val_sco, val_loss = val(val_loader, model, criterion)\n",
        "  end_time = time.time()\n",
        "  epoch_mins, epoch_secs = epoch_time(start_time, end_time)\n",
        "  \n",
        "  train_sco_list.append(train_sco)\n",
        "  train_loss_list.append(train_loss)\n",
        "  val_sco_list.append(val_sco)\n",
        "  val_loss_list.append(val_loss)\n",
        "\n",
        "  if epoch % log_interval == 0:\n",
        "    print('=' * 20, 'Epoch', epoch, '=' * 20)\n",
        "    print(f'Epoch Time: {epoch_mins}m {epoch_secs}s')\n",
        "    print('Train Sco: {:.6f} Train Loss: {:.6f}'.format(train_sco, train_loss))\n",
        "    print('  Val Sco: {:.6f}   Val Loss: {:.6f}'.format(val_sco, val_loss))\n",
        "  torch.save(model, \"picachu_model_gru.pth\")"
      ],
      "execution_count": null,
      "outputs": [
        {
          "output_type": "stream",
          "name": "stderr",
          "text": [
            "/usr/local/lib/python3.7/dist-packages/torch/_tensor.py:490: UserWarning: non-inplace resize is deprecated\n",
            "  warnings.warn(\"non-inplace resize is deprecated\")\n",
            "/usr/local/lib/python3.7/dist-packages/ipykernel_launcher.py:79: UserWarning: To copy construct from a tensor, it is recommended to use sourceTensor.clone().detach() or sourceTensor.clone().detach().requires_grad_(True), rather than torch.tensor(sourceTensor).\n",
            "/usr/local/lib/python3.7/dist-packages/ipykernel_launcher.py:99: UserWarning: To copy construct from a tensor, it is recommended to use sourceTensor.clone().detach() or sourceTensor.clone().detach().requires_grad_(True), rather than torch.tensor(sourceTensor).\n"
          ]
        },
        {
          "output_type": "stream",
          "name": "stdout",
          "text": [
            "==================== Epoch 1 ====================\n",
            "Epoch Time: 17m 13s\n",
            "Train Sco: 3686.011575 Train Loss: -0.865538\n",
            "  Val Sco: 2113.013537   Val Loss: -0.852952\n",
            "==================== Epoch 2 ====================\n",
            "Epoch Time: 16m 40s\n",
            "Train Sco: 3165.009826 Train Loss: -0.894063\n",
            "  Val Sco: 1793.010916   Val Loss: -0.880436\n",
            "==================== Epoch 3 ====================\n",
            "Epoch Time: 16m 42s\n",
            "Train Sco: 2903.009078 Train Loss: -0.909201\n",
            "  Val Sco: 1933.011784   Val Loss: -0.877764\n",
            "==================== Epoch 4 ====================\n",
            "Epoch Time: 16m 39s\n",
            "Train Sco: 2774.008801 Train Loss: -0.909163\n",
            "  Val Sco: 1542.008950   Val Loss: -0.894874\n",
            "==================== Epoch 5 ====================\n",
            "Epoch Time: 16m 36s\n",
            "Train Sco: 2940.009671 Train Loss: -0.910986\n",
            "  Val Sco: 1951.012229   Val Loss: -0.876247\n"
          ]
        }
      ]
    },
    {
      "cell_type": "code",
      "metadata": {
        "colab": {
          "base_uri": "https://localhost:8080/"
        },
        "id": "K70-tD62v1Cb",
        "outputId": "82d47135-0bba-44bf-8b93-7fd33015a5a6"
      },
      "source": [
        "max_epochs = 3\n",
        "log_interval = 1\n",
        "train_sco_list = []\n",
        "train_loss_list = []\n",
        "val_sco_list = []\n",
        "val_loss_list = []\n",
        "\n",
        "for epoch in range(1, max_epochs + 1):\n",
        "  start_time = time.time()\n",
        "  train_sco, train_loss = train(train_loader, model, criterion, optimizer)\n",
        "  val_sco, val_loss = val(val_loader, model, criterion)\n",
        "  end_time = time.time()\n",
        "  epoch_mins, epoch_secs = epoch_time(start_time, end_time)\n",
        "  \n",
        "  train_sco_list.append(train_sco)\n",
        "  train_loss_list.append(train_loss)\n",
        "  val_sco_list.append(val_sco)\n",
        "  val_loss_list.append(val_loss)\n",
        "\n",
        "  if epoch % log_interval == 0:\n",
        "    print('=' * 20, 'Epoch', epoch, '=' * 20)\n",
        "    print(f'Epoch Time: {epoch_mins}m {epoch_secs}s')\n",
        "    print('Train Sco: {:.6f} Train Loss: {:.6f}'.format(train_sco, train_loss))\n",
        "    print('  Val Sco: {:.6f}   Val Loss: {:.6f}'.format(val_sco, val_loss))\n",
        "  torch.save(model, \"picachu_model_gru.pth\")"
      ],
      "execution_count": null,
      "outputs": [
        {
          "output_type": "stream",
          "name": "stderr",
          "text": [
            "/usr/local/lib/python3.7/dist-packages/torch/_tensor.py:490: UserWarning: non-inplace resize is deprecated\n",
            "  warnings.warn(\"non-inplace resize is deprecated\")\n",
            "/usr/local/lib/python3.7/dist-packages/ipykernel_launcher.py:79: UserWarning: To copy construct from a tensor, it is recommended to use sourceTensor.clone().detach() or sourceTensor.clone().detach().requires_grad_(True), rather than torch.tensor(sourceTensor).\n",
            "/usr/local/lib/python3.7/dist-packages/ipykernel_launcher.py:99: UserWarning: To copy construct from a tensor, it is recommended to use sourceTensor.clone().detach() or sourceTensor.clone().detach().requires_grad_(True), rather than torch.tensor(sourceTensor).\n"
          ]
        },
        {
          "output_type": "stream",
          "name": "stdout",
          "text": [
            "==================== Epoch 1 ====================\n",
            "Epoch Time: 16m 38s\n",
            "Train Sco: 2927.009284 Train Loss: -0.902851\n",
            "  Val Sco: 1686.009629   Val Loss: -0.875519\n",
            "==================== Epoch 2 ====================\n",
            "Epoch Time: 16m 41s\n",
            "Train Sco: 2514.008059 Train Loss: -0.924481\n",
            "  Val Sco: 1496.009899   Val Loss: -0.910117\n",
            "==================== Epoch 3 ====================\n",
            "Epoch Time: 17m 2s\n",
            "Train Sco: 2288.007525 Train Loss: -0.937600\n",
            "  Val Sco: 1383.008778   Val Loss: -0.910447\n"
          ]
        }
      ]
    },
    {
      "cell_type": "code",
      "metadata": {
        "colab": {
          "base_uri": "https://localhost:8080/"
        },
        "id": "7Pvbx4yq7bAg",
        "outputId": "95833ea1-d49b-4b79-b9d5-44c2b68dd057"
      },
      "source": [
        "max_epochs = 3\n",
        "log_interval = 1\n",
        "train_sco_list = []\n",
        "train_loss_list = []\n",
        "val_sco_list = []\n",
        "val_loss_list = []\n",
        "\n",
        "for epoch in range(1, max_epochs + 1):\n",
        "  start_time = time.time()\n",
        "  train_sco, train_loss = train(train_loader, model, criterion, optimizer)\n",
        "  val_sco, val_loss = val(val_loader, model, criterion)\n",
        "  end_time = time.time()\n",
        "  epoch_mins, epoch_secs = epoch_time(start_time, end_time)\n",
        "  \n",
        "  train_sco_list.append(train_sco)\n",
        "  train_loss_list.append(train_loss)\n",
        "  val_sco_list.append(val_sco)\n",
        "  val_loss_list.append(val_loss)\n",
        "\n",
        "  if epoch % log_interval == 0:\n",
        "    print('=' * 20, 'Epoch', epoch, '=' * 20)\n",
        "    print(f'Epoch Time: {epoch_mins}m {epoch_secs}s')\n",
        "    print('Train Sco: {:.6f} Train Loss: {:.6f}'.format(train_sco, train_loss))\n",
        "    print('  Val Sco: {:.6f}   Val Loss: {:.6f}'.format(val_sco, val_loss))\n",
        "  torch.save(model, \"picachu_model_gru.pth\")"
      ],
      "execution_count": null,
      "outputs": [
        {
          "output_type": "stream",
          "name": "stderr",
          "text": [
            "/usr/local/lib/python3.7/dist-packages/torch/_tensor.py:490: UserWarning: non-inplace resize is deprecated\n",
            "  warnings.warn(\"non-inplace resize is deprecated\")\n",
            "/usr/local/lib/python3.7/dist-packages/ipykernel_launcher.py:79: UserWarning: To copy construct from a tensor, it is recommended to use sourceTensor.clone().detach() or sourceTensor.clone().detach().requires_grad_(True), rather than torch.tensor(sourceTensor).\n",
            "/usr/local/lib/python3.7/dist-packages/ipykernel_launcher.py:99: UserWarning: To copy construct from a tensor, it is recommended to use sourceTensor.clone().detach() or sourceTensor.clone().detach().requires_grad_(True), rather than torch.tensor(sourceTensor).\n"
          ]
        },
        {
          "output_type": "stream",
          "name": "stdout",
          "text": [
            "==================== Epoch 1 ====================\n",
            "Epoch Time: 17m 52s\n",
            "Train Sco: 3068.011234 Train Loss: -0.886488\n",
            "  Val Sco: 1825.012535   Val Loss: -0.880946\n",
            "==================== Epoch 2 ====================\n",
            "Epoch Time: 17m 50s\n",
            "Train Sco: 2486.008802 Train Loss: -0.925317\n",
            "  Val Sco: 1193.007319   Val Loss: -0.922759\n",
            "==================== Epoch 3 ====================\n",
            "Epoch Time: 17m 52s\n",
            "Train Sco: 2631.008641 Train Loss: -0.935075\n",
            "  Val Sco: 1869.011808   Val Loss: -0.880018\n"
          ]
        }
      ]
    },
    {
      "cell_type": "markdown",
      "source": [
        "##訓練過程之score and loss"
      ],
      "metadata": {
        "id": "op3UDHtuSJHg"
      }
    },
    {
      "cell_type": "code",
      "metadata": {
        "colab": {
          "base_uri": "https://localhost:8080/",
          "height": 545
        },
        "id": "JY-NBVl7HOko",
        "outputId": "a843e03a-964a-4bc0-8de5-ae2c86a13189"
      },
      "source": [
        "import matplotlib.pyplot as plt\n",
        "\n",
        "plt.figure(figsize=(12, 4))\n",
        "plt.plot(range(len(train_sco_list)), train_sco_list)\n",
        "plt.plot(range(len(val_sco_list)), val_sco_list, c='r')\n",
        "plt.legend(['train', 'val'])\n",
        "plt.title('Score')\n",
        "plt.show()\n",
        "\n",
        "plt.figure(figsize=(12, 4))\n",
        "plt.plot(range(len(train_loss_list)), train_loss_list)\n",
        "plt.plot(range(len(val_loss_list)), val_loss_list, c='r')\n",
        "plt.legend(['train', 'val'])\n",
        "plt.title('Loss')\n",
        "plt.show()"
      ],
      "execution_count": null,
      "outputs": [
        {
          "output_type": "display_data",
          "data": {
            "image/png": "[encoded data removed]",
            "text/plain": [
              "<Figure size 864x288 with 1 Axes>"
            ]
          },
          "metadata": {
            "needs_background": "light"
          }
        },
        {
          "output_type": "display_data",
          "data": {
            "image/png": "[encoded data removed]",
            "text/plain": [
              "<Figure size 864x288 with 1 Axes>"
            ]
          },
          "metadata": {
            "needs_background": "light"
          }
        }
      ]
    },
    {
      "cell_type": "markdown",
      "metadata": {
        "id": "gISoCILWGx84"
      },
      "source": [
        "# 預測"
      ]
    },
    {
      "cell_type": "code",
      "metadata": {
        "id": "T_WHKjjSHQ5s"
      },
      "source": [
        "def predict(input_data, model):\n",
        "  model.eval()\n",
        "  output_list = []\n",
        "  pred_str = []\n",
        "  label_str = []\n",
        "  with torch.no_grad():\n",
        "    for data in input_data:\n",
        "      images = data[0].cuda()\n",
        "      outputs = model(images)\n",
        "      outputs = outputs.argmax(2)\n",
        "      outputs = outputs.permute(1,0)\n",
        "      for i in range(outputs.size(0)):\n",
        "        output_list.append(un_embedding(outputs[i]))\n",
        "  return output_list"
      ],
      "execution_count": null,
      "outputs": []
    },
    {
      "cell_type": "markdown",
      "metadata": {
        "id": "FPWbzNHs2bz-"
      },
      "source": [
        "# 輸出"
      ]
    },
    {
      "cell_type": "code",
      "metadata": {
        "id": "fty_20n21pvF",
        "colab": {
          "base_uri": "https://localhost:8080/"
        },
        "outputId": "b2fb4f0e-4ae3-44ea-dcd8-77a332698504"
      },
      "source": [
        "output_csv = predict(test_loader, model)\n",
        "picname_csv = []\n",
        "with open(\"/content/submission_template.csv\", newline='') as csvfile:\n",
        "  reader = csv.DictReader(csvfile)\n",
        "  for row in reader:\n",
        "    picname_csv.append(row['id'])\n",
        "with open('result.csv', 'w', newline='') as csvFile:\n",
        "  writer = csv.DictWriter(csvFile, fieldnames=['id', 'text'])\n",
        "  writer.writeheader()\n",
        "  for i in range(len(output_csv)):\n",
        "    writer.writerow({'id':picname_csv[i], 'text':output_csv[i]})"
      ],
      "execution_count": null,
      "outputs": [
        {
          "output_type": "stream",
          "name": "stderr",
          "text": [
            "/usr/local/lib/python3.7/dist-packages/torch/_tensor.py:490: UserWarning: non-inplace resize is deprecated\n",
            "  warnings.warn(\"non-inplace resize is deprecated\")\n"
          ]
        }
      ]
    }
  ]
}